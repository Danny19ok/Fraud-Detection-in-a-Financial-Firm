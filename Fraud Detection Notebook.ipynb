{
 "cells": [
  {
   "cell_type": "code",
   "execution_count": 18,
   "id": "ee832f80",
   "metadata": {},
   "outputs": [],
   "source": [
    "import numpy as np\n",
    "import pandas as pd\n",
    "from sklearn import preprocessing\n",
    "from sklearn.model_selection import train_test_split\n",
    "from sklearn.preprocessing import StandardScaler\n",
    "from sklearn.naive_bayes import GaussianNB\n",
    "from sklearn.linear_model import LogisticRegression\n",
    "from sklearn.metrics import accuracy_score, confusion_matrix, classification_report\n",
    "from sklearn import metrics"
   ]
  },
  {
   "cell_type": "code",
   "execution_count": 2,
   "id": "32798bdf",
   "metadata": {},
   "outputs": [],
   "source": [
    "data = pd.read_csv('Fraud_pr.csv')\n"
   ]
  },
  {
   "cell_type": "code",
   "execution_count": 3,
   "id": "f8722210",
   "metadata": {},
   "outputs": [
    {
     "data": {
      "text/html": [
       "<div>\n",
       "<style scoped>\n",
       "    .dataframe tbody tr th:only-of-type {\n",
       "        vertical-align: middle;\n",
       "    }\n",
       "\n",
       "    .dataframe tbody tr th {\n",
       "        vertical-align: top;\n",
       "    }\n",
       "\n",
       "    .dataframe thead th {\n",
       "        text-align: right;\n",
       "    }\n",
       "</style>\n",
       "<table border=\"1\" class=\"dataframe\">\n",
       "  <thead>\n",
       "    <tr style=\"text-align: right;\">\n",
       "      <th></th>\n",
       "      <th>step</th>\n",
       "      <th>type</th>\n",
       "      <th>amount</th>\n",
       "      <th>nameOrig</th>\n",
       "      <th>oldbalanceOrg</th>\n",
       "      <th>newbalanceOrig</th>\n",
       "      <th>nameDest</th>\n",
       "      <th>oldbalanceDest</th>\n",
       "      <th>newbalanceDest</th>\n",
       "      <th>isFraud</th>\n",
       "      <th>isFlaggedFraud</th>\n",
       "    </tr>\n",
       "  </thead>\n",
       "  <tbody>\n",
       "    <tr>\n",
       "      <th>0</th>\n",
       "      <td>1</td>\n",
       "      <td>PAYMENT</td>\n",
       "      <td>9839.64</td>\n",
       "      <td>C1231006815</td>\n",
       "      <td>170136.0</td>\n",
       "      <td>160296.36</td>\n",
       "      <td>M1979787155</td>\n",
       "      <td>0.0</td>\n",
       "      <td>0.0</td>\n",
       "      <td>0</td>\n",
       "      <td>0</td>\n",
       "    </tr>\n",
       "    <tr>\n",
       "      <th>1</th>\n",
       "      <td>1</td>\n",
       "      <td>PAYMENT</td>\n",
       "      <td>1864.28</td>\n",
       "      <td>C1666544295</td>\n",
       "      <td>21249.0</td>\n",
       "      <td>19384.72</td>\n",
       "      <td>M2044282225</td>\n",
       "      <td>0.0</td>\n",
       "      <td>0.0</td>\n",
       "      <td>0</td>\n",
       "      <td>0</td>\n",
       "    </tr>\n",
       "    <tr>\n",
       "      <th>2</th>\n",
       "      <td>1</td>\n",
       "      <td>TRANSFER</td>\n",
       "      <td>181.00</td>\n",
       "      <td>C1305486145</td>\n",
       "      <td>181.0</td>\n",
       "      <td>0.00</td>\n",
       "      <td>C553264065</td>\n",
       "      <td>0.0</td>\n",
       "      <td>0.0</td>\n",
       "      <td>1</td>\n",
       "      <td>0</td>\n",
       "    </tr>\n",
       "    <tr>\n",
       "      <th>3</th>\n",
       "      <td>1</td>\n",
       "      <td>CASH_OUT</td>\n",
       "      <td>181.00</td>\n",
       "      <td>C840083671</td>\n",
       "      <td>181.0</td>\n",
       "      <td>0.00</td>\n",
       "      <td>C38997010</td>\n",
       "      <td>21182.0</td>\n",
       "      <td>0.0</td>\n",
       "      <td>1</td>\n",
       "      <td>0</td>\n",
       "    </tr>\n",
       "    <tr>\n",
       "      <th>4</th>\n",
       "      <td>1</td>\n",
       "      <td>PAYMENT</td>\n",
       "      <td>11668.14</td>\n",
       "      <td>C2048537720</td>\n",
       "      <td>41554.0</td>\n",
       "      <td>29885.86</td>\n",
       "      <td>M1230701703</td>\n",
       "      <td>0.0</td>\n",
       "      <td>0.0</td>\n",
       "      <td>0</td>\n",
       "      <td>0</td>\n",
       "    </tr>\n",
       "  </tbody>\n",
       "</table>\n",
       "</div>"
      ],
      "text/plain": [
       "   step      type    amount     nameOrig  oldbalanceOrg  newbalanceOrig  \\\n",
       "0     1   PAYMENT   9839.64  C1231006815       170136.0       160296.36   \n",
       "1     1   PAYMENT   1864.28  C1666544295        21249.0        19384.72   \n",
       "2     1  TRANSFER    181.00  C1305486145          181.0            0.00   \n",
       "3     1  CASH_OUT    181.00   C840083671          181.0            0.00   \n",
       "4     1   PAYMENT  11668.14  C2048537720        41554.0        29885.86   \n",
       "\n",
       "      nameDest  oldbalanceDest  newbalanceDest  isFraud  isFlaggedFraud  \n",
       "0  M1979787155             0.0             0.0        0               0  \n",
       "1  M2044282225             0.0             0.0        0               0  \n",
       "2   C553264065             0.0             0.0        1               0  \n",
       "3    C38997010         21182.0             0.0        1               0  \n",
       "4  M1230701703             0.0             0.0        0               0  "
      ]
     },
     "execution_count": 3,
     "metadata": {},
     "output_type": "execute_result"
    }
   ],
   "source": [
    "data.head()"
   ]
  },
  {
   "cell_type": "code",
   "execution_count": 4,
   "id": "3413e5d5",
   "metadata": {},
   "outputs": [
    {
     "data": {
      "text/plain": [
       "step              0\n",
       "type              0\n",
       "amount            0\n",
       "nameOrig          0\n",
       "oldbalanceOrg     0\n",
       "newbalanceOrig    0\n",
       "nameDest          0\n",
       "oldbalanceDest    0\n",
       "newbalanceDest    0\n",
       "isFraud           0\n",
       "isFlaggedFraud    0\n",
       "dtype: int64"
      ]
     },
     "execution_count": 4,
     "metadata": {},
     "output_type": "execute_result"
    }
   ],
   "source": [
    "data.isna().sum()"
   ]
  },
  {
   "cell_type": "code",
   "execution_count": 20,
   "id": "85bb0f89",
   "metadata": {},
   "outputs": [
    {
     "data": {
      "text/plain": [
       "isFraud\n",
       "0    1047433\n",
       "1       1142\n",
       "Name: count, dtype: int64"
      ]
     },
     "execution_count": 20,
     "metadata": {},
     "output_type": "execute_result"
    }
   ],
   "source": [
    "data.isFraud.value_counts()"
   ]
  },
  {
   "cell_type": "code",
   "execution_count": 21,
   "id": "f839a5a4",
   "metadata": {},
   "outputs": [
    {
     "data": {
      "text/plain": [
       "isFlaggedFraud\n",
       "0    1048575\n",
       "Name: count, dtype: int64"
      ]
     },
     "execution_count": 21,
     "metadata": {},
     "output_type": "execute_result"
    }
   ],
   "source": [
    "data.isFlaggedFraud.value_counts()\n"
   ]
  },
  {
   "cell_type": "code",
   "execution_count": 5,
   "id": "a33bc286",
   "metadata": {},
   "outputs": [],
   "source": [
    "data=data.drop(['nameOrig','nameDest'],axis=1)"
   ]
  },
  {
   "cell_type": "code",
   "execution_count": 6,
   "id": "06799eae",
   "metadata": {},
   "outputs": [],
   "source": [
    "label_encoder = preprocessing.LabelEncoder()\n",
    "data['type'] = label_encoder.fit_transform(data['type'])"
   ]
  },
  {
   "cell_type": "code",
   "execution_count": 7,
   "id": "46789f60",
   "metadata": {},
   "outputs": [],
   "source": [
    "\n",
    "X = data.drop('isFraud', axis=1)\n",
    "y = data['isFraud']"
   ]
  },
  {
   "cell_type": "code",
   "execution_count": 8,
   "id": "b910de99",
   "metadata": {},
   "outputs": [],
   "source": [
    "X_train, X_test, y_train, y_test = train_test_split(X, y, test_size=0.40, random_state=42)\n"
   ]
  },
  {
   "cell_type": "code",
   "execution_count": 9,
   "id": "7e42df44",
   "metadata": {},
   "outputs": [],
   "source": [
    "sc = StandardScaler()\n",
    "X_train = sc.fit_transform(X_train)\n",
    "X_test = sc.transform(X_test)"
   ]
  },
  {
   "cell_type": "code",
   "execution_count": 21,
   "id": "2a1576e5",
   "metadata": {},
   "outputs": [
    {
     "name": "stdout",
     "output_type": "stream",
     "text": [
      "Naive Bayes Results:\n",
      "Accuracy: 0.9717664449371767\n",
      "Confusion Matrix:\n",
      " [[407439  11546]\n",
      " [   296    149]]\n",
      "Classification Report:\n",
      "               precision    recall  f1-score   support\n",
      "\n",
      "           0       1.00      0.97      0.99    418985\n",
      "           1       0.01      0.33      0.02       445\n",
      "\n",
      "    accuracy                           0.97    419430\n",
      "   macro avg       0.51      0.65      0.51    419430\n",
      "weighted avg       1.00      0.97      0.98    419430\n",
      "\n"
     ]
    }
   ],
   "source": [
    "#Using GaussianNB\n",
    "gnb = GaussianNB()\n",
    "gnb.fit(X_train, y_train)\n",
    "y_pred_nb = gnb.predict(X_test)\n",
    "\n",
    "print(\"Naive Bayes Results:\")\n",
    "print(\"Accuracy:\", accuracy_score(y_test, y_pred_nb))\n",
    "print(\"Confusion Matrix:\\n\", confusion_matrix(y_test, y_pred_nb))\n",
    "print(\"Classification Report:\\n\", classification_report(y_test, y_pred_nb))"
   ]
  },
  {
   "cell_type": "code",
   "execution_count": 23,
   "id": "a8faf51b",
   "metadata": {},
   "outputs": [
    {
     "name": "stdout",
     "output_type": "stream",
     "text": [
      "Logistic Regression Results:\n",
      "Accuracy: 0.9990892401592638\n",
      "Confusion Matrix:\n",
      " [[418980      5]\n",
      " [   377     68]]\n",
      "Classification Report:\n",
      "               precision    recall  f1-score   support\n",
      "\n",
      "           0       1.00      1.00      1.00    418985\n",
      "           1       0.93      0.15      0.26       445\n",
      "\n",
      "    accuracy                           1.00    419430\n",
      "   macro avg       0.97      0.58      0.63    419430\n",
      "weighted avg       1.00      1.00      1.00    419430\n",
      "\n"
     ]
    }
   ],
   "source": [
    "# Using Logistic Regression\n",
    "\n",
    "lr = LogisticRegression(random_state=0, max_iter=1000)\n",
    "lr.fit(X_train, y_train)\n",
    "y_pred_lr = lr.predict(X_test)\n",
    "\n",
    "print(\"Logistic Regression Results:\")\n",
    "print(\"Accuracy:\", accuracy_score(y_test, y_pred_lr))\n",
    "print(\"Confusion Matrix:\\n\", confusion_matrix(y_test, y_pred_lr))\n",
    "print(\"Classification Report:\\n\", classification_report(y_test, y_pred_lr))"
   ]
  },
  {
   "cell_type": "markdown",
   "id": "f2ffa78c",
   "metadata": {},
   "source": [
    "**Fraud Detection in a Financial Firm**"
   ]
  },
  {
   "cell_type": "markdown",
   "id": "8db64398",
   "metadata": {},
   "source": [
    "1. Data Cleaning (Missing Values, Outliers, Multicollinearity)\n",
    "\n",
    "    Missing Values: I checked for missing values using data.isna().sum() and found no missing values in the dataset.\n",
    "\n",
    "    Outliers: Outliers in transaction amounts can distort results. I reviewed distributions and used scaling (StandardScaler) to minimize impact.\n",
    "\n",
    "    Multicollinearity: I removed columns like nameOrig and nameDest since they are identifiers, not features. I also checked for feature correlations to avoid redundancy and ensure the model works effectively."
   ]
  },
  {
   "cell_type": "markdown",
   "id": "44eed099",
   "metadata": {},
   "source": [
    "2. Fraud Detection Model Description\n",
    "\n",
    "   I implemented two models:\n",
    "\n",
    "    * Naive Bayes Classifier\n",
    "\n",
    "    * Logistic Regression\n",
    "\n",
    "    I used LabelEncoder to convert the type column and scaled numerical features for better performance. The dataset was split into 60% training and 40% testing for evaluation."
   ]
  },
  {
   "cell_type": "markdown",
   "id": "0c65ccf9",
   "metadata": {},
   "source": [
    "3. Variable Selection\n",
    "\n",
    "      All relevant numerical and encoded categorical features were included:\n",
    "\n",
    "      step, amount, oldbalanceOrg, newbalanceOrig, oldbalanceDest, newbalanceDest, and type.\n",
    "\n",
    "      Columns like nameOrig and nameDest were removed because they don’t contribute predictive value and may lead to overfitting."
   ]
  },
  {
   "cell_type": "markdown",
   "id": "98888267",
   "metadata": {},
   "source": [
    "4. Model Performance\n",
    "\n",
    "   Accuracy:\n",
    "\n",
    "    Naive Bayes: ~97.17%\n",
    "\n",
    "    Logistic Regression: ~99.90%\n",
    "\n",
    "    Used confusion_matrix and classification_report to evaluate precision, recall, F1-score.\n",
    "\n",
    "    Logistic Regression showed superior performance and balance between false positives and false negatives."
   ]
  },
  {
   "cell_type": "markdown",
   "id": "426d7250",
   "metadata": {},
   "source": [
    "5. Key Factors That Predict Fraudulent Transactions\n",
    "\n",
    "    Transaction Type: Certain transaction types (e.g., TRANSFER, CASH_OUT) are strongly associated with fraud.\n",
    "\n",
    "    Amount: Higher transaction amounts are often suspicious.\n",
    "\n",
    "    Old and New Balances: Fraudulent transactions often show zero or unusual balances.\n",
    "\n",
    "    Step: To find specific time patterns"
   ]
  },
  {
   "cell_type": "markdown",
   "id": "63857184",
   "metadata": {},
   "source": [
    "6. Do These Factors Make Sense?\n",
    "\n",
    "    Yes:\n",
    "\n",
    "    Fraud is more common in TRANSFER and CASH_OUT because these types are used to move funds quickly.\n",
    "\n",
    "    Zero balances before/after transactions are red flags.\n",
    "\n",
    "    Large amounts or sudden balance changes are suspicious behavior."
   ]
  },
  {
   "cell_type": "markdown",
   "id": "fffa7838",
   "metadata": {},
   "source": [
    "7. Prevention Recommendations\n",
    "\n",
    "    Real-Time Monitoring: Flag high-value transactions or unusual behavior using rules or ML models.\n",
    "\n",
    "    Multi-Factor Authentication (MFA): Add identity verification steps for risky operations.\n",
    "\n",
    "    User Behavior Profiling: Learn normal user patterns and detect deviations.\n",
    "\n",
    "    Limit High-Risk Transactions: Impose thresholds or extra checks on TRANSFER or CASH_OUT."
   ]
  },
  {
   "cell_type": "markdown",
   "id": "abd527ba",
   "metadata": {},
   "source": [
    "8. How to Measure Success of Preventive Actions\n",
    "\n",
    "    Reduction in Fraud Rate: Track how many frauds are prevented vs. previous baseline.\n",
    "\n",
    "    False Positive Rate: Ensure that legitimate transactions are not wrongly flagged.\n",
    "\n",
    "    Customer Feedback: Monitor for complaints due to blocked transactions.\n",
    "\n",
    "    Precision/Recall: Re-evaluate model performance after changes."
   ]
  },
  {
   "cell_type": "markdown",
   "id": "914d7678",
   "metadata": {},
   "source": []
  }
 ],
 "metadata": {
  "kernelspec": {
   "display_name": "base",
   "language": "python",
   "name": "python3"
  },
  "language_info": {
   "codemirror_mode": {
    "name": "ipython",
    "version": 3
   },
   "file_extension": ".py",
   "mimetype": "text/x-python",
   "name": "python",
   "nbconvert_exporter": "python",
   "pygments_lexer": "ipython3",
   "version": "3.12.7"
  }
 },
 "nbformat": 4,
 "nbformat_minor": 5
}
